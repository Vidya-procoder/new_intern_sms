{
 "cells": [
  {
   "cell_type": "code",
   "execution_count": null,
   "id": "d75b2fdd-da3d-455b-b449-f0511bc135c6",
   "metadata": {},
   "outputs": [],
   "source": []
  }
 ],
 "metadata": {
  "kernelspec": {
   "display_name": "",
   "name": ""
  },
  "language_info": {
   "name": ""
  }
 },
 "nbformat": 4,
 "nbformat_minor": 5
}
